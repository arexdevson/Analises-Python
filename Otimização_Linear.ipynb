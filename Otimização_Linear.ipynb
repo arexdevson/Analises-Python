{
  "nbformat": 4,
  "nbformat_minor": 0,
  "metadata": {
    "colab": {
      "provenance": [],
      "authorship_tag": "ABX9TyNVPtzbrqbMlR6oR1fIupGP",
      "include_colab_link": true
    },
    "kernelspec": {
      "name": "python3",
      "display_name": "Python 3"
    },
    "language_info": {
      "name": "python"
    }
  },
  "cells": [
    {
      "cell_type": "markdown",
      "metadata": {
        "id": "view-in-github",
        "colab_type": "text"
      },
      "source": [
        "<a href=\"https://colab.research.google.com/github/arexdevson/Analises-Python/blob/main/Otimiza%C3%A7%C3%A3o_Linear.ipynb\" target=\"_parent\"><img src=\"https://colab.research.google.com/assets/colab-badge.svg\" alt=\"Open In Colab\"/></a>"
      ]
    },
    {
      "cell_type": "code",
      "execution_count": 22,
      "metadata": {
        "id": "jq_cuhgTXf3A"
      },
      "outputs": [],
      "source": [
        "from scipy.optimize import linprog\n"
      ]
    },
    {
      "cell_type": "code",
      "source": [
        "\n",
        "# Capacidades de suprimento dos armazéns\n",
        "capacidade_armazem = [500, 600, 350]  # A1, A2, A3\n",
        "\n"
      ],
      "metadata": {
        "id": "Ocg2kFlvZGQ5"
      },
      "execution_count": 23,
      "outputs": []
    },
    {
      "cell_type": "code",
      "source": [
        "# Requisitos de demanda das lojas\n",
        "demanda_lojas = [200, 450, 300, 500]  # L1, L2, L3, L4\n",
        "\n"
      ],
      "metadata": {
        "id": "N_JiT8lKYrYX"
      },
      "execution_count": 24,
      "outputs": []
    },
    {
      "cell_type": "code",
      "source": [
        "# Custos de transporte de cada armazém para cada loja\n",
        "# Matriz de custos onde as linhas representam armazéns e as colunas representam lojas\n",
        "custos = [\n",
        "    [2, 4, 5, 7],  # Custos de A1 para L1, L2, L3, L4\n",
        "    [3, 3, 8, 5],  # Custos de A2 para L1, L2, L3, L4\n",
        "    [5, 6, 8, 4]   # Custos de A3 para L1, L2, L3, L4\n",
        "]\n"
      ],
      "metadata": {
        "id": "GzqQs38VYtn3"
      },
      "execution_count": 25,
      "outputs": []
    },
    {
      "cell_type": "code",
      "source": [
        "custos\n",
        "# em Resumo, 3 lojas [ ] internos e pra cada um temos 4 valores de custo pra loja respectiva"
      ],
      "metadata": {
        "colab": {
          "base_uri": "https://localhost:8080/"
        },
        "id": "fCFgG6bsZI90",
        "outputId": "8e49a152-39e4-4431-b38d-1939203c99a9"
      },
      "execution_count": 26,
      "outputs": [
        {
          "output_type": "execute_result",
          "data": {
            "text/plain": [
              "[[2, 4, 5, 7], [3, 3, 8, 5], [5, 6, 8, 4]]"
            ]
          },
          "metadata": {},
          "execution_count": 26
        }
      ]
    },
    {
      "cell_type": "code",
      "source": [
        "\n",
        "# Função objetivo: da matriz de custos\n",
        "objetivo = [custo for linha in custos for custo in linha]\n",
        "objetivo"
      ],
      "metadata": {
        "colab": {
          "base_uri": "https://localhost:8080/"
        },
        "id": "I2uL2LXPYv8i",
        "outputId": "09d63c30-d716-405a-83a9-4255009b9863"
      },
      "execution_count": 27,
      "outputs": [
        {
          "output_type": "execute_result",
          "data": {
            "text/plain": [
              "[2, 4, 5, 7, 3, 3, 8, 5, 5, 6, 8, 4]"
            ]
          },
          "metadata": {},
          "execution_count": 27
        }
      ]
    },
    {
      "cell_type": "code",
      "source": [
        "objetivo2 = []\n",
        "\n",
        "#outra forma de atingir o mesmo resultado anterior\n",
        "for v in custos:\n",
        "  print('Daqui pegamos todas as linhas = Armazéns')\n",
        "  for linha in v:\n",
        "      print(linha)\n",
        "      objetivo2.append(linha)\n",
        "\n",
        "print('Resultado final:')\n",
        "objetivo2"
      ],
      "metadata": {
        "colab": {
          "base_uri": "https://localhost:8080/"
        },
        "id": "lO0_T9POZfFr",
        "outputId": "97e6709d-736c-4ad0-ffb4-7be68545a85c"
      },
      "execution_count": 28,
      "outputs": [
        {
          "output_type": "stream",
          "name": "stdout",
          "text": [
            "Daqui pegamos todas as linhas = Armazéns\n",
            "2\n",
            "4\n",
            "5\n",
            "7\n",
            "Daqui pegamos todas as linhas = Armazéns\n",
            "3\n",
            "3\n",
            "8\n",
            "5\n",
            "Daqui pegamos todas as linhas = Armazéns\n",
            "5\n",
            "6\n",
            "8\n",
            "4\n",
            "Resultado final:\n"
          ]
        },
        {
          "output_type": "execute_result",
          "data": {
            "text/plain": [
              "[2, 4, 5, 7, 3, 3, 8, 5, 5, 6, 8, 4]"
            ]
          },
          "metadata": {},
          "execution_count": 28
        }
      ]
    },
    {
      "cell_type": "code",
      "source": [
        "\n",
        "# Lista para armazenar as Restrições: Garantir que a oferta não seja excedida\n",
        "lhs_eq = []\n",
        "rhs_eq = []\n",
        "\n"
      ],
      "metadata": {
        "id": "ERQvGCGMY-Bl"
      },
      "execution_count": 29,
      "outputs": []
    },
    {
      "cell_type": "code",
      "source": [
        "\n",
        "# Restrições de oferta (soma de cada linha não pode exceder a capacidade do armazém)\n",
        "for i in range(len(capacidade_armazem)):\n",
        "    restricao = [0] * len(objetivo)\n",
        "    print(f'Restrição: {restricao}')\n",
        "    for j in range(len(demanda_lojas)):\n",
        "        restricao[i * len(demanda_lojas) + j] = 1\n",
        "        print(restricao[i * len(demanda_lojas) + j])\n",
        "    lhs_eq.append(restricao)\n",
        "    rhs_eq.append(capacidade_armazem[i])\n"
      ],
      "metadata": {
        "colab": {
          "base_uri": "https://localhost:8080/"
        },
        "id": "fcBjDHcbY_np",
        "outputId": "1dbc4c5c-7271-4511-971a-e0cfb34928f7"
      },
      "execution_count": 30,
      "outputs": [
        {
          "output_type": "stream",
          "name": "stdout",
          "text": [
            "Restrição: [0, 0, 0, 0, 0, 0, 0, 0, 0, 0, 0, 0]\n",
            "1\n",
            "1\n",
            "1\n",
            "1\n",
            "Restrição: [0, 0, 0, 0, 0, 0, 0, 0, 0, 0, 0, 0]\n",
            "1\n",
            "1\n",
            "1\n",
            "1\n",
            "Restrição: [0, 0, 0, 0, 0, 0, 0, 0, 0, 0, 0, 0]\n",
            "1\n",
            "1\n",
            "1\n",
            "1\n"
          ]
        }
      ]
    },
    {
      "cell_type": "code",
      "source": [
        "\n",
        "# Restrições de demanda (soma de cada coluna deve atender à demanda)\n",
        "for j in range(len(demanda_lojas)):\n",
        "    restricao = [0] * len(objetivo)\n",
        "    print(f'Restrição: {restricao}')\n",
        "    for i in range(len(capacidade_armazem)):\n",
        "        restricao[i * len(demanda_lojas) + j] = 1\n",
        "        print(restricao[i * len(demanda_lojas) + j])\n",
        "    lhs_eq.append(restricao)\n",
        "    rhs_eq.append(demanda_lojas[j])\n"
      ],
      "metadata": {
        "colab": {
          "base_uri": "https://localhost:8080/"
        },
        "id": "7dWn26X0ZBXn",
        "outputId": "9eb27a6a-c5d6-4004-922f-1ce886dda96d"
      },
      "execution_count": 31,
      "outputs": [
        {
          "output_type": "stream",
          "name": "stdout",
          "text": [
            "Restrição: [0, 0, 0, 0, 0, 0, 0, 0, 0, 0, 0, 0]\n",
            "1\n",
            "1\n",
            "1\n",
            "Restrição: [0, 0, 0, 0, 0, 0, 0, 0, 0, 0, 0, 0]\n",
            "1\n",
            "1\n",
            "1\n",
            "Restrição: [0, 0, 0, 0, 0, 0, 0, 0, 0, 0, 0, 0]\n",
            "1\n",
            "1\n",
            "1\n",
            "Restrição: [0, 0, 0, 0, 0, 0, 0, 0, 0, 0, 0, 0]\n",
            "1\n",
            "1\n",
            "1\n"
          ]
        }
      ]
    },
    {
      "cell_type": "code",
      "source": [
        "lhs_eq"
      ],
      "metadata": {
        "colab": {
          "base_uri": "https://localhost:8080/"
        },
        "id": "nKrzx3Cxdl9G",
        "outputId": "42d30758-c415-4df1-9d27-60aa7fcc8ed3"
      },
      "execution_count": 34,
      "outputs": [
        {
          "output_type": "execute_result",
          "data": {
            "text/plain": [
              "[[1, 1, 1, 1, 0, 0, 0, 0, 0, 0, 0, 0],\n",
              " [0, 0, 0, 0, 1, 1, 1, 1, 0, 0, 0, 0],\n",
              " [0, 0, 0, 0, 0, 0, 0, 0, 1, 1, 1, 1],\n",
              " [1, 0, 0, 0, 1, 0, 0, 0, 1, 0, 0, 0],\n",
              " [0, 1, 0, 0, 0, 1, 0, 0, 0, 1, 0, 0],\n",
              " [0, 0, 1, 0, 0, 0, 1, 0, 0, 0, 1, 0],\n",
              " [0, 0, 0, 1, 0, 0, 0, 1, 0, 0, 0, 1]]"
            ]
          },
          "metadata": {},
          "execution_count": 34
        }
      ]
    },
    {
      "cell_type": "code",
      "source": [
        "rhs_eq"
      ],
      "metadata": {
        "colab": {
          "base_uri": "https://localhost:8080/"
        },
        "id": "US9pgO7JdqJ1",
        "outputId": "5c5d7167-143c-4efb-e5b0-6a1f621c9eb1"
      },
      "execution_count": 35,
      "outputs": [
        {
          "output_type": "execute_result",
          "data": {
            "text/plain": [
              "[500, 600, 350, 200, 450, 300, 500]"
            ]
          },
          "metadata": {},
          "execution_count": 35
        }
      ]
    },
    {
      "cell_type": "code",
      "source": [
        "\n",
        "# Resolução do problema de programação linear\n",
        "resultado = linprog(c=objetivo, A_eq=lhs_eq, b_eq=rhs_eq, method='highs')\n",
        "\n",
        "#c = lista com os valores de custo\n",
        "#A_eq = matriz com as possiveis alocações\n",
        "#b_eq = lista com a capacidade armazenagem e demanda loja\n"
      ],
      "metadata": {
        "id": "XHsGN-Z5ZCuE"
      },
      "execution_count": 32,
      "outputs": []
    },
    {
      "cell_type": "code",
      "source": [
        "\n",
        "# Saída do plano de transporte otimizado\n",
        "if resultado.success:\n",
        "    print(\"Plano de Transporte Otimizado:\")\n",
        "    plano_otimizado = resultado.x.reshape((len(capacidade_armazem), len(demanda_lojas)))\n",
        "    for i, linha in enumerate(plano_otimizado):\n",
        "        print(f\"Do Armazém {i+1}: {linha}\")\n",
        "    print(f\"Custo Total: {resultado.fun}\")\n",
        "else:\n",
        "    print(\"Otimização falhou!\")"
      ],
      "metadata": {
        "colab": {
          "base_uri": "https://localhost:8080/"
        },
        "id": "3OtTcCrAZD9x",
        "outputId": "95dd8559-1d87-40b6-e448-64e63354926f"
      },
      "execution_count": 33,
      "outputs": [
        {
          "output_type": "stream",
          "name": "stdout",
          "text": [
            "Plano de Transporte Otimizado:\n",
            "Do Armazém 1: [200.   0. 300.   0.]\n",
            "Do Armazém 2: [ -0. 450.   0. 150.]\n",
            "Do Armazém 3: [  0.   0.   0. 350.]\n",
            "Custo Total: 5400.0\n"
          ]
        }
      ]
    },
    {
      "cell_type": "code",
      "source": [],
      "metadata": {
        "id": "yuU9P_lybt9U"
      },
      "execution_count": 33,
      "outputs": []
    }
  ]
}